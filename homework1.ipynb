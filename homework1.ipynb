{
  "cells": [
    {
      "cell_type": "raw",
      "metadata": {},
      "source": [
        "---\n",
        "title: hw1\n",
        "---"
      ],
      "id": "8a887337"
    },
    {
      "cell_type": "markdown",
      "metadata": {},
      "source": [
        "## Q1. 다음 표의 내용을 데이터 프레임으로 만들어 출력해 보세요.\n"
      ],
      "id": "14cf7cfb"
    },
    {
      "cell_type": "code",
      "metadata": {},
      "source": [
        "import pandas as pd\n",
        "\n",
        "data = {\n",
        "    \"제품\": [\"사과\", \"딸기\", \"수박\"],\n",
        "    \"가격\": [1800, 1500, 3000],\n",
        "    \"판매량\": [24, 38, 13]\n",
        "}\n",
        "\n",
        "df = pd.DataFrame(data)\n",
        "df"
      ],
      "id": "cff1f6ca",
      "execution_count": null,
      "outputs": []
    },
    {
      "cell_type": "markdown",
      "metadata": {},
      "source": [
        "## Q2. 앞에서 만든 데이터 프레임을 이용해 과일의 가격 평균과 판매량 평균을 구해보세요.\n"
      ],
      "id": "e5c25096"
    },
    {
      "cell_type": "code",
      "metadata": {},
      "source": [
        "가격평균 = df[\"가격\"].mean()\n",
        "\n",
        "판매량평균 = df[\"판매량\"].mean()\n",
        "\n",
        "df[[\"가격\", \"판매량\"]].mean()"
      ],
      "id": "59274bae",
      "execution_count": null,
      "outputs": []
    },
    {
      "cell_type": "markdown",
      "metadata": {},
      "source": [
        "## Q3. mpg 데이터를 불러와 복사본을 만드세요.\n"
      ],
      "id": "41ee216c"
    },
    {
      "cell_type": "code",
      "metadata": {},
      "source": [
        "mpg = pd.read_csv(\"C:/Users/USER/Downloads/mpg.csv\")\n",
        "mpg2 = mpg.copy()"
      ],
      "id": "6d251c54",
      "execution_count": null,
      "outputs": []
    },
    {
      "cell_type": "markdown",
      "metadata": {},
      "source": [
        "## Q4. 복사본 데이터를 이용해 cty는 city로, hwy는 highway로 수정하세요.\n"
      ],
      "id": "d83c4ed3"
    },
    {
      "cell_type": "code",
      "metadata": {},
      "source": [
        "df_mpg_new = df_mpg_new.rename(columns = {'cty' : 'city'})\n",
        "print(df_mpg_new['city'])\n",
        "\n",
        "df_mpg_new = df_mpg_new.rename(columns = {'hwy' : 'highway'})\n",
        "print(df_mpg_new['highway'])"
      ],
      "id": "191fd3e3",
      "execution_count": null,
      "outputs": []
    }
  ],
  "metadata": {
    "kernelspec": {
      "name": "python3",
      "language": "python",
      "display_name": "Python 3 (ipykernel)"
    }
  },
  "nbformat": 4,
  "nbformat_minor": 5
}