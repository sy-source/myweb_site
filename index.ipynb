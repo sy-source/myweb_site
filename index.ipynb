{
  "cells": [
    {
      "cell_type": "raw",
      "metadata": {},
      "source": [
        "---\n",
        "title: testwebsite1\n",
        "---"
      ],
      "id": "86365b45"
    },
    {
      "cell_type": "markdown",
      "metadata": {},
      "source": [
        "## 홈페이지 첫 화면 입니다!\n",
        "\n",
        "안녕하세요, 데이터 분석 OOO 입니다.\n"
      ],
      "id": "4c22027f"
    }
  ],
  "metadata": {
    "kernelspec": {
      "name": "python3",
      "language": "python",
      "display_name": "Python 3 (ipykernel)"
    }
  },
  "nbformat": 4,
  "nbformat_minor": 5
}