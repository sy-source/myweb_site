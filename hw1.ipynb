{
  "cells": [
    {
      "cell_type": "raw",
      "metadata": {},
      "source": [
        "---\n",
        "title: testwebsite1\n",
        "---"
      ],
      "id": "b07b678e"
    },
    {
      "cell_type": "markdown",
      "metadata": {},
      "source": [
        "## 다음 표의 내용을 데이터 프레임으로 만들어 출력해 보세요.\n",
        "\n",
        "안녕하세요, 데이터 분석 OOO 입니다.\n"
      ],
      "id": "0f6529e2"
    },
    {
      "cell_type": "code",
      "metadata": {},
      "source": [
        "df=pd.DataFrame({\n",
        "    \"col1\":[1, 2,3]\n",
        "})"
      ],
      "id": "72f797d8",
      "execution_count": null,
      "outputs": []
    }
  ],
  "metadata": {
    "kernelspec": {
      "name": "python3",
      "language": "python",
      "display_name": "Python 3 (ipykernel)"
    }
  },
  "nbformat": 4,
  "nbformat_minor": 5
}