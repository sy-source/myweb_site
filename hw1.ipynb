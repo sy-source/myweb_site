{
  "cells": [
    {
      "cell_type": "raw",
      "metadata": {},
      "source": [
        "---\n",
        "title: hw1\n",
        "---"
      ],
      "id": "ec97e30d"
    },
    {
      "cell_type": "markdown",
      "metadata": {},
      "source": [
        "## Q1. 다음 표의 내용을 데이터 프레임으로 만들어 출력해 보세요.\n"
      ],
      "id": "b15d6af6"
    },
    {
      "cell_type": "code",
      "metadata": {},
      "source": [
        "import pandas as pd\n",
        "\n",
        "data = {\n",
        "    \"제품\": [\"사과\", \"딸기\", \"수박\"],\n",
        "    \"가격\": [1800, 1500, 3000],\n",
        "    \"판매량\": [24, 38, 13]\n",
        "}\n",
        "\n",
        "df = pd.DataFrame(data)\n",
        "df"
      ],
      "id": "9438b445",
      "execution_count": null,
      "outputs": []
    },
    {
      "cell_type": "markdown",
      "metadata": {},
      "source": [
        "## Q2. 앞에서 만든 데이터 프레임을 이용해 과일의 가격 평균과 판매량 평균을 구해보세요.\n"
      ],
      "id": "984b7531"
    },
    {
      "cell_type": "code",
      "metadata": {},
      "source": [
        "가격평균 = df[\"가격\"].mean()\n",
        "\n",
        "판매량평균 = df[\"판매량\"].mean()\n",
        "\n",
        "df[[\"가격\", \"판매량\"]].mean()"
      ],
      "id": "4231609c",
      "execution_count": null,
      "outputs": []
    },
    {
      "cell_type": "markdown",
      "metadata": {},
      "source": [
        "## Q3. mpg 데이터를 불러와 복사본을 만드세요.\n"
      ],
      "id": "1db6634d"
    },
    {
      "cell_type": "markdown",
      "metadata": {},
      "source": [
        "## Q4. 복사본 데이터를 이용해 cty는 city로, hwy는 highway로 수정하세요.\n"
      ],
      "id": "ab88736c"
    },
    {
      "cell_type": "markdown",
      "metadata": {},
      "source": [
        "## Q5. 데이터 일부를 출력해 변수명이 바뀌었는지 확인해보세요.\n"
      ],
      "id": "943676c7"
    },
    {
      "cell_type": "markdown",
      "metadata": {},
      "source": [
        "## Q6. midwest.csv를 불러와 데이터의 특징을 파악하세요.\n"
      ],
      "id": "fc246dec"
    },
    {
      "cell_type": "code",
      "metadata": {},
      "source": [
        "midwest = pd.read_csv(\"C:/Users/USER/Downloads/midwest.csv\")\n",
        "midwest.head()\n",
        "midwest.tail()\n",
        "midwest.shape\n",
        "midwest.info()\n",
        "midwest.describe()"
      ],
      "id": "53b9cdff",
      "execution_count": null,
      "outputs": []
    },
    {
      "cell_type": "markdown",
      "metadata": {},
      "source": [
        "## Q7. poptotal(전체인구) 변수를 total로, popasian(아시아 인구) 변수를 asian으로 수정하세요.\n"
      ],
      "id": "a7184fa9"
    },
    {
      "cell_type": "code",
      "metadata": {},
      "source": [
        "midwest = midwest.rename(columns = {'poptotal' : 'total', 'popasian' : 'asian'})"
      ],
      "id": "7ee533cc",
      "execution_count": null,
      "outputs": []
    },
    {
      "cell_type": "markdown",
      "metadata": {},
      "source": [
        "## Q8. total, asian 변수를 이용해 '전체 인구 대비 아시아 인구 백분율' 파생 변수를 추가하고, 히스토그램을 만들어 분포를 살펴보세요.\n"
      ],
      "id": "e849a941"
    },
    {
      "cell_type": "code",
      "metadata": {},
      "source": [
        "#백분율 변수\n",
        "\n",
        "midwest['ratio'] = midwest['asian'] / midwest['total'] * 100\n",
        "\n",
        "midwest\n",
        "\n",
        "#히스토그램\n",
        "\n",
        "midwest['ratio'].plot.hist()"
      ],
      "id": "dca743e7",
      "execution_count": null,
      "outputs": []
    },
    {
      "cell_type": "markdown",
      "metadata": {},
      "source": [
        "## Q9. 아시아 인구 백분율 전체 평균을 구하고, 평균을 초과하면 'large', 그 외에는 'small'을 부여한 파생변수를 만들어 보세요.\n"
      ],
      "id": "f148ad09"
    },
    {
      "cell_type": "code",
      "metadata": {},
      "source": [
        "ratio_mean = midwest['ratio'].mean()\n",
        "ratio_mean"
      ],
      "id": "c74ad7bc",
      "execution_count": null,
      "outputs": []
    },
    {
      "cell_type": "code",
      "metadata": {},
      "source": [
        "import numpy as np\n",
        "midwest['size'] = np.where(midwest['ratio'] > ratio_mean, 'large', 'small')\n",
        "midwest"
      ],
      "id": "614e6cc5",
      "execution_count": null,
      "outputs": []
    },
    {
      "cell_type": "markdown",
      "metadata": {},
      "source": [
        "## Q1. 자동차 배기량에 따라 고속도로 연비가 다른지 알아보려고 합니다. displ(배기량)이 4 이하인 자동차와 5 이상인 자동차 중 어떤 자동차의 hwy(고속도로 연비) 평균이 더 높은지 알아보세요.\n"
      ],
      "id": "8d624b33"
    },
    {
      "cell_type": "code",
      "metadata": {},
      "source": [
        "mpg = pd.read_csv(\"C:/Users/USER/Downloads/mpg.csv\")\n",
        "mpg_a = mpg.query(\"displ <=4\")\n",
        "mpg_b = mpg.query(\"displ >=5\")\n",
        "\n",
        "mpg_a[\"hwy\"].mean()\n",
        "print(mpg_a)\n",
        "\n",
        "mpg_b[\"hwy\"].mean()\n",
        "print(mpg_)"
      ],
      "id": "d05878e1",
      "execution_count": null,
      "outputs": []
    }
  ],
  "metadata": {
    "kernelspec": {
      "name": "python3",
      "language": "python",
      "display_name": "Python 3 (ipykernel)"
    }
  },
  "nbformat": 4,
  "nbformat_minor": 5
}